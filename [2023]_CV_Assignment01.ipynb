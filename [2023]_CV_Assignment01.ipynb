{
  "nbformat": 4,
  "nbformat_minor": 0,
  "metadata": {
    "colab": {
      "provenance": [],
      "include_colab_link": true
    },
    "kernelspec": {
      "name": "python3",
      "display_name": "Python 3"
    },
    "language_info": {
      "name": "python"
    }
  },
  "cells": [
    {
      "cell_type": "markdown",
      "metadata": {
        "id": "view-in-github",
        "colab_type": "text"
      },
      "source": [
        "<a href=\"https://colab.research.google.com/github/whwogus1983/OpenCV/blob/main/%5B2023%5D_CV_Assignment01.ipynb\" target=\"_parent\"><img src=\"https://colab.research.google.com/assets/colab-badge.svg\" alt=\"Open In Colab\"/></a>"
      ]
    },
    {
      "cell_type": "code",
      "source": [
        "# 본인 구글드라이브 연결\n",
        "from google.colab import drive\n",
        "drive.mount('/content/drive')"
      ],
      "metadata": {
        "id": "to2nFrZdAgSL",
        "colab": {
          "base_uri": "https://localhost:8080/"
        },
        "outputId": "60bf30e8-4444-40d7-8a8d-9bb4b0f10e7b"
      },
      "execution_count": 1,
      "outputs": [
        {
          "output_type": "stream",
          "name": "stdout",
          "text": [
            "Mounted at /content/drive\n"
          ]
        }
      ]
    },
    {
      "cell_type": "code",
      "source": [
        "import numpy as np\n",
        "import matplotlib.pyplot as plt\n",
        "from scipy.signal import convolve2d\n",
        "from scipy.signal import correlate2d\n",
        "from skimage import io, color\n",
        "\n",
        "# 입력 영상은 Zip파일 안에서 찾아서 본인 구글 drive에 upload\n",
        "# 밑에 Path는 본인 구글 드라이브 위치로 설정할 것\n",
        "RGBImage = io.imread('./drive/MyDrive/TheLittleMermaid.JPG')\n",
        "GrayImage = color.rgb2gray(RGBImage)\n",
        "\n",
        "print('[1] Input Image')\n",
        "plt.axis('off')\n",
        "plt.imshow(GrayImage, cmap='gray', vmin=0.0, vmax=1.0)\n",
        "plt.show()\n",
        "\n",
        "###############################################\n",
        "# [문제1] 3x3 Sobel 필터 X축 필터값 입력\n",
        "# [힌트] 왼쪽이 음수, 오른쪽이 양수\n",
        "###############################################\n",
        "print(f'[질문1] 3x3 Sobel 필터 X축 구현')\n",
        "sobelX = np.array((\n",
        "        [, , ], # 채워 넣을 것\n",
        "        [, , ], # 채워 넣을 것\n",
        "        [, , ]),# 채워 넣을 것\n",
        "        dtype=\"float\")\n",
        "\n",
        "y1 = convolve2d(GrayImage, sobelX, 'same')\n",
        "\n",
        "print('Sobel X Result Image')\n",
        "plt.axis('off')\n",
        "plt.imshow(y1, cmap='gray')\n",
        "plt.show()\n",
        "\n",
        "print(f'[답안1] Convolution result y1 at (107,99) = {y1[107, 99]:0.2f}\\n')\n",
        "\n",
        "###############################################\n",
        "# [문제2] 3x3 Sobel 필터 Y축 필터값 입력\n",
        "# [힌트] 위쪽이 양수, 아래쪽이 음수\n",
        "###############################################\n",
        "print(f'[질문2] 3x3 Sobel 필터 y축 구현')\n",
        "sobelY = np.array((\n",
        "        [, , ],     # 채워 넣을 것\n",
        "        [, , ],     # 채워 넣을 것\n",
        "        [, , ]), # 채워 넣을 것\n",
        "        dtype=\"float\")\n",
        "\n",
        "y2 = convolve2d(GrayImage, sobelY, 'same')\n",
        "\n",
        "print('Sobel Y Result Image')\n",
        "plt.axis('off')\n",
        "plt.imshow(y2, cmap='gray')\n",
        "plt.show()\n",
        "\n",
        "print(f'[답안2] Convolution result y2 at (107,99) = {y2[107, 99]:0.2f}\\n')"
      ],
      "metadata": {
        "id": "s9wmktIcUmEl"
      },
      "execution_count": null,
      "outputs": []
    },
    {
      "cell_type": "code",
      "source": [
        "# 얼굴 위치 찾기\n",
        "\n",
        "def findMaxPos(x) :\n",
        "  maxindex = x.argmax()\n",
        "  maxpos = np.unravel_index(maxindex, x.shape)\n",
        "  return maxpos\n",
        "\n",
        "# 입력 영상에서 얼굴 부분 crop\n",
        "Face = GrayImage[73:128, 81:152]\n",
        "\n",
        "plt.axis('off')\n",
        "plt.imshow(Face, cmap='gray', vmin=0.0, vmax=1.0)\n",
        "plt.show()\n",
        "\n",
        "###############################################\n",
        "#[문제3] GrayImage 영상에 Face 값을 이용해서 2D correlation을 수행하여 최대 값\n",
        "#        위치를 출력할 것\n",
        "#[힌트1] 위쪽에 이미 correlate2d를 import함\n",
        "#[힌트2] 입력 크기에 맞추기 위해 'same' 옵션을 줄 것!\n",
        "###############################################\n",
        "print(f'[질문3] correlation을 이용한 위치 찾기 문제')\n",
        "# 이곳에 코드 구현 할 것\n",
        "# output_corr = 코드 구현\n",
        "output_corr = # Reserved for your code\n",
        "\n",
        "print('# Correlation Result image')\n",
        "plt.imshow(output_corr)\n",
        "plt.show()\n",
        "\n",
        "print(f'[답안3] Max position = {findMaxPos(output_corr)}\\n')\n",
        "# 생각할것: 왜 max값이 얼굴 위치에 나타나지 않느지 고민해 볼 것\n",
        "\n",
        "###############################################\n",
        "#[문제4] 영상 정규화 하기 - 방법1: 각자 정규화 하기\n",
        "#[힌트] 이번 문제는 정규화를 간단하게 평균값으로 뺀 것을 의미\n",
        "#       원래 정규화는 평균을 0으로 분산을 1로 만들어 줘야 함\n",
        "###############################################\n",
        "print(f'[문제4] 각자 영상 평균값으로 정규화 하기')\n",
        "#GrayImage2 = 코드 만들어 넣기 (GrayImage의 평균값으로 정규화)\n",
        "#Face2 = 코드 만들어 넣기 (Face의 평균으로 정규화)\n",
        "GrayImage2 = # Reserved for your code\n",
        "Face2 = # Reserved for your code\n",
        "\n",
        "print('[답안4] Mean value of GrayImage = %0.2f and of Face = %0.2f\\n' % (np.mean(GrayImage), np.mean(Face)))\n",
        "\n",
        "###############################################\n",
        "#[문제5] 각자 정규화된 GrayImage 영상에 Face 값을 이용해서 2D correlation을 수행하여 최대 값\n",
        "#        위치를 출력할 것\n",
        "#[힌트1] 위쪽에 이미 correlate2d를 import함\n",
        "#[힌트2] 입력 크기에 맞추기 위해 'same'옵션을 줄 것!\n",
        "###############################################\n",
        "print(f'[질문5] 각자 정규화 한뒤에 correlation을 이용한 위치 찾기 문제')\n",
        "# 이곳에 코드 구현 할 것\n",
        "# output_corr2 = 코드 구현\n",
        "output_corr2 = # Reserved for your code\n",
        "\n",
        "print('# Correlation Result after each normalization')\n",
        "plt.imshow(output_corr2)\n",
        "plt.show()\n",
        "\n",
        "print(f'[답안5] Max position = {findMaxPos(output_corr2)}\\n')\n",
        "\n",
        "###############################################\n",
        "#[문제6] Face의 평균값으로 정규화된 GrayImage 영상과 Face 영상을 이용해서 2D correlation을 수행하여 최대 값\n",
        "#        위치를 출력할 것\n",
        "#[힌트1] 위 문제와 다르게 Face의 평균 값으로만 정규화 할것\n",
        "###############################################\n",
        "print(f'[질문6] 찾고자 하는 Face 평균값으로 정규화 할 경우 위치 결과')\n",
        "# GrayImage3 = GrayImage - 코드 구현\n",
        "# Face3 = Face - 코드 구현\n",
        "GrayImage3 = # Reserved for your code\n",
        "Face3 = # Reserved for your code\n",
        "\n",
        "# output_corr3 = 코드 구현\n",
        "output_corr3 = # Reserved for your code\n",
        "\n",
        "print('# Correlation Result after Face\\'s normalization')\n",
        "plt.imshow(output_corr3)\n",
        "plt.show()\n",
        "\n",
        "print(f'[답안6] Max position = {findMaxPos(output_corr3)}\\n')\n",
        "# 생각할것: 윗 결과와 비교해 볼 것"
      ],
      "metadata": {
        "id": "sNXplYh71v1y"
      },
      "execution_count": null,
      "outputs": []
    },
    {
      "cell_type": "code",
      "source": [
        "###############################################\n",
        "#[문제7] convolution과 correlation의 차이 확인\n",
        "#        2D Convolution을 사용해서 Face와 가장 유사한 입력 영상의 위치를 찾을 것\n",
        "#[힌트] 해당 문제의 경우 Face 값으로 입력과 필터 값을 정규화 할 것\n",
        "###############################################\n",
        "print(f'[질문7] 찾고자 하는 Face의 위치를 convolution으로 찾아 볼 것')\n",
        "# output_conv = 코드 작성 (입력: GrayImage3, Face3)\n",
        "output_conv = # Reserved for your code\n",
        "\n",
        "print('Convolution Result')\n",
        "plt.imshow(output_conv)\n",
        "plt.show()\n",
        "\n",
        "print(f'[답안7] Max position = {findMaxPos(output_conv)}\\n')\n",
        "# 생각할것: 윗 결과와 비교해 볼 것"
      ],
      "metadata": {
        "id": "OkyRBVlwEt99"
      },
      "execution_count": null,
      "outputs": []
    }
  ]
}